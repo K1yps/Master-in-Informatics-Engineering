{
 "cells": [
  {
   "cell_type": "code",
   "execution_count": 36,
   "id": "e233b9dc-cea4-452b-98af-dc00d4abeb39",
   "metadata": {},
   "outputs": [
    {
     "name": "stdout",
     "output_type": "stream",
     "text": [
      "<class 'pandas.core.frame.DataFrame'>\n",
      "RangeIndex: 5000 entries, 0 to 4999\n",
      "Data columns (total 7 columns):\n",
      " #   Column                        Non-Null Count  Dtype  \n",
      "---  ------                        --------------  -----  \n",
      " 0   Avg. Area Income              5000 non-null   float64\n",
      " 1   Avg. Area House Age           5000 non-null   float64\n",
      " 2   Avg. Area Number of Rooms     5000 non-null   float64\n",
      " 3   Avg. Area Number of Bedrooms  5000 non-null   float64\n",
      " 4   Area Population               5000 non-null   float64\n",
      " 5   Price                         5000 non-null   float64\n",
      " 6   Address                       5000 non-null   object \n",
      "dtypes: float64(6), object(1)\n",
      "memory usage: 273.6+ KB\n",
      "-2640159.7968519107\n",
      "MAE:  82288.22251914955\n",
      "MSE:  10460958907.209503\n",
      "RMSE:  286.8592381624645\n"
     ]
    },
    {
     "data": {
      "image/png": "[encoded data removed]",
      "text/plain": [
       "<Figure size 432x288 with 1 Axes>"
      ]
     },
     "metadata": {
      "needs_background": "light"
     },
     "output_type": "display_data"
    }
   ],
   "source": [
    "'''Guiao4'''\n",
    "\n",
    "import sklearn as skl\n",
    "import pandas as pd\n",
    "import matplotlib.pyplot as plt\n",
    "import seaborn as sns\n",
    "from sklearn import preprocessing\n",
    "from sklearn.model_selection import train_test_split\n",
    "from sklearn.model_selection import KFold\n",
    "from sklearn.tree import DecisionTreeClassifier\n",
    "from sklearn.tree import DecisionTreeRegressor\n",
    "from sklearn.metrics import confusion_matrix\n",
    "from sklearn.metrics import ConfusionMatrixDisplay\n",
    "from sklearn.metrics import recall_score\n",
    "from sklearn.metrics import accuracy_score\n",
    "from sklearn.metrics import precision_score\n",
    "from sklearn.metrics import roc_auc_score\n",
    "from sklearn.metrics import roc_curve\n",
    "from sklearn.metrics import RocCurveDisplay\n",
    "from sklearn.metrics import f1_score\n",
    "from sklearn.metrics import fbeta_score\n",
    "from sklearn.metrics import mean_absolute_error\n",
    "from sklearn.metrics import mean_squared_error\n",
    "import matplotlib.pyplot as plt\n",
    "import pandas as pd\n",
    "import numpy as np\n",
    "#USING CROSS VALIDATION\n",
    "from sklearn.model_selection import cross_val_score\n",
    "\n",
    "'''\n",
    "LOAD CSV\n",
    "'''\n",
    "\n",
    "USAHousing = pd.read_csv('USA_Housing.csv')\n",
    "\n",
    "USAHousing.head()\n",
    "\n",
    "USAHousing.info()\n",
    "\n",
    "USAHousing.describe()\n",
    "\n",
    "USAHousing.columns\n",
    "\n",
    "#sns.pairplot(USAHousing)\n",
    "\n",
    "#sns.heatmap(USAHousing.corr())\n",
    "\n",
    "x = USAHousing[['Avg. Area Income','Avg. Area House Age','Avg. Area Number of Rooms','Avg. Area Number of Bedrooms','Area Population']]\n",
    "\n",
    "y=USAHousing['Price']\n",
    "\n",
    "x_train,x_test, y_train, y_test = train_test_split(x,y,test_size=0.4, random_state=101)\n",
    "\n",
    "#sns.histplot(y_train,kde=True)\n",
    "\n",
    "#sns.histplot(y_test,kde=True)\n",
    "\n",
    "\n",
    "from sklearn.linear_model import LinearRegression\n",
    "\n",
    "lm=LinearRegression()\n",
    "lm.fit(x_train,y_train)\n",
    "\n",
    "print(lm.intercept_)\n",
    "\n",
    "coeff_df = pd.DataFrame(lm.coef_,x.columns,columns=['Coefficient'])\n",
    "coeff_df\n",
    "\n",
    "predictions=lm.predict(x_test)\n",
    "#plt.scatter(y_test,predictions)\n",
    "\n",
    "sns.histplot((y_test-predictions),bins=50,kde=True)\n",
    "\n",
    "from sklearn import metrics\n",
    "\n",
    "print('MAE: ', metrics.mean_absolute_error(y_test,predictions))\n",
    "print('MSE: ', metrics.mean_squared_error(y_test,predictions))\n",
    "print('RMSE: ', np.sqrt(metrics.mean_absolute_error(y_test,predictions)))\n",
    "\n",
    "\n",
    "\n",
    "\n"
   ]
  },
  {
   "cell_type": "code",
   "execution_count": null,
   "id": "a222a34f-87cd-4fc1-b9eb-003108f2d88c",
   "metadata": {},
   "outputs": [],
   "source": []
  },
  {
   "cell_type": "code",
   "execution_count": null,
   "id": "a8920382-4440-4e1b-b508-9e4368671782",
   "metadata": {},
   "outputs": [],
   "source": []
  },
  {
   "cell_type": "code",
   "execution_count": null,
   "id": "9581a7df-a083-4be8-85ef-0f4c5e7e0cfd",
   "metadata": {},
   "outputs": [],
   "source": []
  }
 ],
 "metadata": {
  "kernelspec": {
   "display_name": "Python 3 (ipykernel)",
   "language": "python",
   "name": "python3"
  },
  "language_info": {
   "codemirror_mode": {
    "name": "ipython",
    "version": 3
   },
   "file_extension": ".py",
   "mimetype": "text/x-python",
   "name": "python",
   "nbconvert_exporter": "python",
   "pygments_lexer": "ipython3",
   "version": "3.8.0"
  }
 },
 "nbformat": 4,
 "nbformat_minor": 5
}
