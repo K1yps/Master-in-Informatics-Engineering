{
 "cells": [
  {
   "cell_type": "code",
   "execution_count": 4,
   "id": "e1678032-f36e-4cd4-9faa-41ef7f860a6d",
   "metadata": {},
   "outputs": [
    {
     "name": "stdout",
     "output_type": "stream",
     "text": [
      "       Account Length  Int'l Plan  VMail Plan  State  Area Code  Phone  \\\n",
      "Churn                                                                    \n",
      "0                2850        2850        2850   2850       2850   2850   \n",
      "1                 483         483         483    483        483    483   \n",
      "\n",
      "       VMail Message  Day Mins  Eve Mins  Night Mins  Intl Mins  \\\n",
      "Churn                                                             \n",
      "0               2850      2850      2850        2850       2850   \n",
      "1                483       483       483         483        483   \n",
      "\n",
      "       CustServ Calls  Day Calls  Day Charge  Eve Calls  Eve Charge  \\\n",
      "Churn                                                                 \n",
      "0                2850       2850        2850       2850        2850   \n",
      "1                 483        483         483        483         483   \n",
      "\n",
      "       Night Calls  Night Charge  Intl Calls  Intl Charge  \n",
      "Churn                                                      \n",
      "0             2850          2850        2850         2850  \n",
      "1              483           483         483          483  \n"
     ]
    },
    {
     "ename": "NameError",
     "evalue": "name 'train_test_split' is not defined",
     "output_type": "error",
     "traceback": [
      "\u001b[1;31m---------------------------------------------------------------------------\u001b[0m",
      "\u001b[1;31mNameError\u001b[0m                                 Traceback (most recent call last)",
      "\u001b[1;32m~\\AppData\\Local\\Temp/ipykernel_9388/3299395514.py\u001b[0m in \u001b[0;36m<module>\u001b[1;34m\u001b[0m\n\u001b[0;32m     20\u001b[0m \u001b[1;33m\u001b[0m\u001b[0m\n\u001b[0;32m     21\u001b[0m \u001b[1;31m# separa os dados em grupos para treino e teste do modelo # Pretty sure que tenho de implementar isto :')\u001b[0m\u001b[1;33m\u001b[0m\u001b[1;33m\u001b[0m\u001b[0m\n\u001b[1;32m---> 22\u001b[1;33m \u001b[0mx_train\u001b[0m\u001b[1;33m,\u001b[0m \u001b[0mx_test\u001b[0m\u001b[1;33m,\u001b[0m \u001b[0my_train\u001b[0m\u001b[1;33m,\u001b[0m \u001b[0my_test\u001b[0m \u001b[1;33m=\u001b[0m \u001b[0mtrain_test_split\u001b[0m\u001b[1;33m(\u001b[0m\u001b[0mx\u001b[0m\u001b[1;33m,\u001b[0m \u001b[0my\u001b[0m\u001b[1;33m,\u001b[0m \u001b[0mtest_size\u001b[0m \u001b[1;33m=\u001b[0m \u001b[1;36m0.25\u001b[0m\u001b[1;33m,\u001b[0m \u001b[0mrandom_state\u001b[0m \u001b[1;33m=\u001b[0m \u001b[1;36m7373\u001b[0m\u001b[1;33m)\u001b[0m\u001b[1;33m\u001b[0m\u001b[1;33m\u001b[0m\u001b[0m\n\u001b[0m\u001b[0;32m     23\u001b[0m \u001b[1;33m\u001b[0m\u001b[0m\n\u001b[0;32m     24\u001b[0m \u001b[1;33m\u001b[0m\u001b[0m\n",
      "\u001b[1;31mNameError\u001b[0m: name 'train_test_split' is not defined"
     ]
    }
   ],
   "source": [
    "import pandas as pd\n",
    "\n",
    "df_contract = pd.read_csv('ContractData.csv')\n",
    "df_call =  pd.read_excel('CallsData.xls')\n",
    "df = pd.merge(df_contract,df_call,on=['Phone','Area Code'], how = 'inner',)\n",
    "\n",
    "df['Churn'] = df_contract['Churn'].astype('category')\n",
    "\n",
    "\n",
    "\n",
    "print (df.groupby(by=['Churn']).count())\n",
    "\n",
    "\n",
    "\n",
    "\n",
    "# Tree\n",
    "\n",
    "x = df.drop(['Phone','Area Code','Churn'], axis = 1)\n",
    "y = df['Churn'].to_frame()\n",
    "\n",
    "# separa os dados em grupos para treino e teste do modelo # Pretty sure que tenho de implementar isto :')\n",
    "x_train, x_test, y_train, y_test = train_test_split(x, y, test_size = 0.25, random_state = 7373)\n",
    "\n",
    "\n",
    "# Para tar bem ambos tem de ter o msm comportamente \n",
    "sns.display(x_train)\n",
    "\n",
    "sns.display(x_test)\n",
    "\n",
    "\n",
    "\n",
    "\n",
    "\n",
    "\n",
    "\n",
    "\n"
   ]
  },
  {
   "cell_type": "code",
   "execution_count": null,
   "id": "e24d2ac9-9dd2-49a9-8f21-ba38bfa6663d",
   "metadata": {},
   "outputs": [],
   "source": []
  }
 ],
 "metadata": {
  "kernelspec": {
   "display_name": "Python 3 (ipykernel)",
   "language": "python",
   "name": "python3"
  },
  "language_info": {
   "codemirror_mode": {
    "name": "ipython",
    "version": 3
   },
   "file_extension": ".py",
   "mimetype": "text/x-python",
   "name": "python",
   "nbconvert_exporter": "python",
   "pygments_lexer": "ipython3",
   "version": "3.9.7"
  }
 },
 "nbformat": 4,
 "nbformat_minor": 5
}
