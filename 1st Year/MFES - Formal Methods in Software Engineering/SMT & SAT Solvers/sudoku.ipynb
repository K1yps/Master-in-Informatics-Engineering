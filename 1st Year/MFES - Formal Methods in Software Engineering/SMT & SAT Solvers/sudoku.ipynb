{
  "nbformat": 4,
  "nbformat_minor": 0,
  "metadata": {
    "kernelspec": {
      "display_name": "Python 3",
      "language": "python",
      "name": "python3"
    },
    "language_info": {
      "codemirror_mode": {
        "name": "ipython",
        "version": 3
      },
      "file_extension": ".py",
      "mimetype": "text/x-python",
      "name": "python",
      "nbconvert_exporter": "python",
      "pygments_lexer": "ipython3",
      "version": "3.7.3"
    },
    "colab": {
      "name": "sudoku.ipynb",
      "provenance": [],
      "collapsed_sections": []
    }
  },
  "cells": [
    {
      "cell_type": "markdown",
      "metadata": {
        "id": "2-L0s3dbtUcj"
      },
      "source": [
        "# Sudoku"
      ]
    },
    {
      "cell_type": "markdown",
      "metadata": {
        "id": "WhGQNNcKtUck"
      },
      "source": [
        "Os puzzles Sudoku são problemas de colocação de números inteiros entre 1 e $N^2$ numa matriz quadrada de dimensão $N^2$, por forma a que cada coluna e cada linha contenha todos os números, sem repetições. Além disso, cada matriz contém $N^2$ sub-matrizes quadradas disjuntas, de dimensão $N$, que deverão também elas conter os números entre  1 e $N^2$. \n",
        "\n",
        "Cada problema é dado por uma matriz parcialmente preenchida, cabendo ao jogador completá-la. \n",
        "\n",
        "O problema pode ser codificado através de um conjunto de $N^4$ constantes de tipo inteiro, correspondentes às posições da matriz, e escrevendo:\n",
        "\n",
        "- $2 \\times N^4$ desigualdades para os limites inferior e superior das constantes; \n",
        "- $N^2$ restrições do tipo “todos diferentes”, uma para cada linha da matriz; \n",
        "- $N^2$ restrições do tipo “todos diferentes”, uma para cada coluna da matriz; \n",
        "- $N^2$ restrições do tipo “todos diferentes”, uma para cada sub-matriz da matriz.\n",
        "\n",
        "Acrescem ainda as restrições (igualdades) correspondentes à definição de um tabuleiro concreto.\n"
      ]
    },
    {
      "cell_type": "markdown",
      "metadata": {
        "id": "4ypJ8-s8vE3G"
      },
      "source": [
        "Começamos por instalar o Z3."
      ]
    },
    {
      "cell_type": "code",
      "metadata": {
        "id": "QAxuNmZCvD7r",
        "colab": {
          "base_uri": "https://localhost:8080/"
        },
        "outputId": "f8bf7530-11ba-4257-cf92-0af7407d4f1c"
      },
      "source": [
        "!pip install z3-solver"
      ],
      "execution_count": 2,
      "outputs": [
        {
          "output_type": "stream",
          "name": "stdout",
          "text": [
            "Collecting z3-solver\n",
            "  Downloading z3_solver-4.8.12.0-py2.py3-none-manylinux1_x86_64.whl (33.0 MB)\n",
            "\u001b[K     |████████████████████████████████| 33.0 MB 16 kB/s \n",
            "\u001b[?25hInstalling collected packages: z3-solver\n",
            "Successfully installed z3-solver-4.8.12.0\n"
          ]
        }
      ]
    },
    {
      "cell_type": "code",
      "metadata": {
        "id": "CaEuKYC-tUcl"
      },
      "source": [
        "from z3 import *"
      ],
      "execution_count": 3,
      "outputs": []
    },
    {
      "cell_type": "markdown",
      "metadata": {
        "id": "3_wEJMkntUcm"
      },
      "source": [
        "Vamos necessitar de uma família de variáveis inteiras $x_{ij}$ e, para isso, vamos criar um dicionário do Python.\n",
        "Complete o programa acrescentando ao solver as restrições impostas pelas regras do jogo.   "
      ]
    },
    {
      "cell_type": "code",
      "metadata": {
        "id": "OGFOznA0tUcm",
        "colab": {
          "base_uri": "https://localhost:8080/"
        },
        "outputId": "04e8915e-9521-4842-ad14-e1bf3bb8264e"
      },
      "source": [
        "N = 2\n",
        "\n",
        "s = Solver()\n",
        "\n",
        "x = {}\n",
        "for i in range(N*N):\n",
        "    x[i] = {}\n",
        "    for j in range(N*N):\n",
        "        x[i][j] = Int('x'+str(i)+str(j))           # declaração de variáveis\n",
        "        s.add(And(1<= x[i][j], x[i][j]<=(N*N)))    # restrições de valor\n",
        "        \n",
        "# completar\n",
        "for i in range(N*N):\n",
        "    s.add(Distinct([x[i][j] for j in range(N*N)]))\n",
        "\n",
        "for j in range(N*N):\n",
        "    s.add(Distinct([x[i][j] for i in range(N*N)]))\n",
        "\n",
        "for si in range(0,N*N,N):\n",
        "  for sj in range(0,N*N,N):\n",
        "    s.add(Distinct([x[si+i][sj+j] for i in range(N) for j in range(N)]) )\n",
        "\n",
        "\n",
        "print(s)"
      ],
      "execution_count": 9,
      "outputs": [
        {
          "output_type": "stream",
          "name": "stdout",
          "text": [
            "[And(x00 >= 1, x00 <= 4),\n",
            " And(x01 >= 1, x01 <= 4),\n",
            " And(x02 >= 1, x02 <= 4),\n",
            " And(x03 >= 1, x03 <= 4),\n",
            " And(x10 >= 1, x10 <= 4),\n",
            " And(x11 >= 1, x11 <= 4),\n",
            " And(x12 >= 1, x12 <= 4),\n",
            " And(x13 >= 1, x13 <= 4),\n",
            " And(x20 >= 1, x20 <= 4),\n",
            " And(x21 >= 1, x21 <= 4),\n",
            " And(x22 >= 1, x22 <= 4),\n",
            " And(x23 >= 1, x23 <= 4),\n",
            " And(x30 >= 1, x30 <= 4),\n",
            " And(x31 >= 1, x31 <= 4),\n",
            " And(x32 >= 1, x32 <= 4),\n",
            " And(x33 >= 1, x33 <= 4),\n",
            " Distinct(x00, x01, x02, x03),\n",
            " Distinct(x10, x11, x12, x13),\n",
            " Distinct(x20, x21, x22, x23),\n",
            " Distinct(x30, x31, x32, x33),\n",
            " Distinct(x00, x10, x20, x30),\n",
            " Distinct(x01, x11, x21, x31),\n",
            " Distinct(x02, x12, x22, x32),\n",
            " Distinct(x03, x13, x23, x33),\n",
            " Distinct(x00, x01, x10, x11),\n",
            " Distinct(x02, x03, x12, x13),\n",
            " Distinct(x20, x21, x30, x31),\n",
            " Distinct(x22, x23, x32, x33)]\n"
          ]
        }
      ]
    },
    {
      "cell_type": "markdown",
      "metadata": {
        "id": "7FQTcrxnSRsa"
      },
      "source": [
        "Acrescente as restrições correspondentes a um tabuleiro concreto e imprima no ecrã uma solução."
      ]
    },
    {
      "cell_type": "code",
      "metadata": {
        "id": "G8k-KFrbSy0h",
        "colab": {
          "base_uri": "https://localhost:8080/"
        },
        "outputId": "62f67603-d69a-4a1e-f561-a595349ee31e"
      },
      "source": [
        "# completar\n",
        "\n",
        "s.add(x[0][0]==4)\n",
        "s.add(x[0][2]==1)\n",
        "s.add(x[1][1]==2)\n",
        "s.add(x[3][1]==4)\n",
        "s.add(x[2][2]==3)\n",
        "s.add(x[3][3]==1)\n",
        "\n",
        "if s.check():\n",
        "  m=s.model()\n",
        "  for i in range(N*N):\n",
        "    for j in range(N*N):\n",
        "      print(m[x[i][j]],end=\" \") \n",
        "    print(\"\")\n",
        "\n",
        "#print(m)"
      ],
      "execution_count": 17,
      "outputs": [
        {
          "output_type": "stream",
          "name": "stdout",
          "text": [
            "4 3 1 2 \n",
            "1 2 4 3 \n",
            "2 1 3 4 \n",
            "3 4 2 1 \n"
          ]
        }
      ]
    }
  ]
}